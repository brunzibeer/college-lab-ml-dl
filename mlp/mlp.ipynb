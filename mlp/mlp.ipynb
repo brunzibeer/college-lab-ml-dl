{
  "nbformat": 4,
  "nbformat_minor": 0,
  "metadata": {
    "colab": {
      "name": "mlp_sol.ipynb",
      "provenance": [],
      "collapsed_sections": []
    },
    "kernelspec": {
      "name": "python3",
      "display_name": "Python 3"
    },
    "accelerator": "GPU"
  },
  "cells": [
    {
      "cell_type": "code",
      "metadata": {
        "id": "p8gpcHDFAGI_"
      },
      "source": [
        "#pip install tensorflow==1.14"
      ],
      "execution_count": 1,
      "outputs": []
    },
    {
      "cell_type": "code",
      "metadata": {
        "id": "DcUr3ZV4eNY2"
      },
      "source": [
        "# import torch\n",
        "# torch.cuda.is_available()"
      ],
      "execution_count": 2,
      "outputs": []
    },
    {
      "cell_type": "code",
      "metadata": {
        "id": "kZUoreevUxHu"
      },
      "source": [
        "import numpy as np\n",
        "from matplotlib import pyplot as plt\n",
        "from torchvision import transforms\n",
        "from torch.utils.data import DataLoader\n",
        "from torch.utils.data import Dataset\n",
        "from tensorflow.examples.tutorials.mnist import input_data\n",
        "\n",
        "mnist = input_data.read_data_sets(\"/tmp\")\n",
        "\n",
        "mnist_train_images = mnist.train.images\n",
        "mnist_train_labels = mnist.train.labels\n",
        "\n",
        "mnist_test_images = mnist.test.images\n",
        "mnist_test_labels = mnist.test.labels\n",
        "\n",
        "class MNISTdataset(Dataset):\n",
        "  \n",
        "  def __init__(self, X: np.ndarray, y: np.ndarray):\n",
        "    self.X = np.reshape(X, (X.shape[0], 28, 28))\n",
        "    self.y = y.astype(np.long)\n",
        "    self.preprocessing = transforms.Compose([\n",
        "      transforms.ToTensor(), # first, convert image to PyTorch tensor\n",
        "      transforms.Normalize((0.1307,), (0.3081,)) # normalize inputs\n",
        "    ])\n",
        "    \n",
        "  def __len__(self):\n",
        "    return self.X.shape[0]\n",
        "  \n",
        "  def __getitem__(self, item: int):\n",
        "    Xcurr, ycurr = self.X[item], self.y[item]\n",
        "    Xcurr = self.preprocessing(Xcurr)\n",
        "    return Xcurr, ycurr"
      ],
      "execution_count": null,
      "outputs": []
    },
    {
      "cell_type": "code",
      "metadata": {
        "id": "VZDUGhhd5K72"
      },
      "source": [
        "BATCH_SIZE = 128\n",
        "\n",
        "mnist_train = MNISTdataset(mnist_train_images, mnist_train_labels)\n",
        "mnist_test = MNISTdataset(mnist_test_images, mnist_test_labels)\n",
        "\n",
        "dl_train = DataLoader(dataset=mnist_train, batch_size=BATCH_SIZE, \n",
        "                      num_workers=4, drop_last=True, shuffle=True)\n",
        "dl_test = DataLoader(dataset=mnist_test, batch_size=BATCH_SIZE, \n",
        "                     num_workers=4, drop_last=False, shuffle=False)"
      ],
      "execution_count": 4,
      "outputs": []
    },
    {
      "cell_type": "code",
      "metadata": {
        "id": "zcjdbzCW418T"
      },
      "source": [
        "idx = np.random.choice(np.arange(0, mnist_train_images.shape[0]))\n",
        "img = mnist_train_images[idx]\n",
        "img = np.reshape(img, (28, 28))\n",
        "\n",
        "fig = plt.figure(figsize = (12,12)) \n",
        "ax = fig.add_subplot(111)\n",
        "ax.imshow(img, cmap='gray')\n",
        "width, height = img.shape\n",
        "thresh = img.max()/2.5\n",
        "for x in range(width):\n",
        "    for y in range(height):\n",
        "        val = round(img[x][y],2) if img[x][y] !=0 else 0\n",
        "        ax.annotate(str(val), xy=(y,x),\n",
        "                    horizontalalignment='center',\n",
        "                    verticalalignment='center',\n",
        "                    color='white' if img[x][y]<thresh else 'black')"
      ],
      "execution_count": null,
      "outputs": []
    },
    {
      "cell_type": "code",
      "metadata": {
        "id": "MmfFS9yaU0xd"
      },
      "source": [
        "num_row, num_col = 1, 10\n",
        "f,subplots = plt.subplots(num_row, num_col, sharex='col', sharey='row')\n",
        "\n",
        "for i in range(num_col):\n",
        "    X, y = iter(dl_train).next()\n",
        "    X_img = X[y == i]\n",
        "    idx = np.random.choice(np.arange(0, X_img.shape[0]))\n",
        "    \n",
        "    X_img = X_img[idx]\n",
        "    X_img = X_img.detach().cpu().numpy()\n",
        "    X_img = X_img.squeeze()\n",
        "    \n",
        "    subplots[i].imshow(X_img, cmap='gray',\n",
        "                       interpolation='nearest', \n",
        "                       aspect='auto')\n",
        "    subplots[i].set_title(f'Digit {i}', fontweight=\"bold\")\n",
        "    subplots[i].grid(b=False)\n",
        "    subplots[i].axis('off')\n",
        "\n",
        "f.set_size_inches(22.5, 4.5)"
      ],
      "execution_count": null,
      "outputs": []
    },
    {
      "cell_type": "code",
      "metadata": {
        "id": "11tBtoB5Jmx0"
      },
      "source": [
        "import torch \n",
        "\n",
        "num_epochs = 10\n",
        "num_fin = 784\n",
        "num_classes = 10\n",
        "num_hidden = 128\n",
        "learning_rate = 0.01\n",
        "device = torch.device(\"cuda:0\" if torch.cuda.is_available() else \"cpu\")"
      ],
      "execution_count": 7,
      "outputs": []
    },
    {
      "cell_type": "code",
      "metadata": {
        "id": "i9z4Ha24U5tt"
      },
      "source": [
        "import torch\n",
        "import torch.nn as nn\n",
        "from torch.optim import SGD\n",
        "\n",
        "\"\"\"\n",
        "    Write HERE your multi layer perceptron (MLP), with one hidden layer \n",
        "    characterised by num_hidden neurons, activated by one OF the following\n",
        "    activation functions: sigmoid, relu, leaky_relu (see the torch.nn package\n",
        "    for details about act. functions)\n",
        "\n",
        "    Here a list of functions that you may use: \n",
        "      - nn.Sequential\n",
        "      - nn.Linear\n",
        "      - nn.Sigmoid\n",
        "      - nn.ReLU\n",
        "      - torch.argmax\n",
        "      - optim.SGD, optim.Adam\n",
        "      - nn.CrossEntropyLoss\n",
        "      \n",
        "    OPTIONALLY: \n",
        "    i) Add more than just one hidden layer. \n",
        "    ii) Put dropout and batch normalization layers to respectively improve\n",
        "    the generalization capabilities and speedup training procedure.\n",
        "\"\"\"\n",
        "\n",
        "class MLP(nn.Module):\n",
        "  \n",
        "  def __init__(self, num_fin: int, num_hidden: int, num_classes: int):\n",
        "    super(MLP, self).__init__()\n",
        "    self.net = nn.Sequential(\n",
        "                    nn.Linear(num_fin, num_hidden),\n",
        "                    nn.ReLU(),\n",
        "                    nn.Linear(num_hidden, num_classes)\n",
        "    )\n",
        "  \n",
        "  def forward(self, x: torch.Tensor):\n",
        "    return self.net(torch.flatten(x, 1))\n",
        "  \n",
        "\n",
        "def eval_acc(mlp: nn.Module, data_loader: torch.utils.data.DataLoader, \n",
        "             device: torch.device):\n",
        "  \n",
        "  correct = 0\n",
        "  total = 0\n",
        "  \n",
        "  with torch.no_grad():\n",
        "    for x, y in data_loader:\n",
        "      x, y = x.to(device), y.to(device)\n",
        "      y_pred = model(x)\n",
        "      y_pred_discr = torch.argmax(y_pred, dim=1)\n",
        "      acc = torch.sum((y_pred_discr == y).float()) \n",
        "      correct += acc\n",
        "      total += y_pred.size(0)\n",
        "  \n",
        "  return correct/total"
      ],
      "execution_count": 8,
      "outputs": []
    },
    {
      "cell_type": "code",
      "metadata": {
        "id": "O_9ekrhhkSx_"
      },
      "source": [
        "model = MLP(num_fin, num_hidden, num_classes).to(device)\n",
        "loss_fun = nn.CrossEntropyLoss().to(device)\n",
        "opt = SGD(model.parameters(), learning_rate)\n",
        "\n",
        "try:\n",
        "  \n",
        "    for i in range(num_epochs):\n",
        "   \n",
        "      print(f\"Epoch {i} train acc.: {eval_acc(model, dl_train, device):.3f} \"\n",
        "                        f\"test acc.: {eval_acc(model, dl_test, device):.3f}\")\n",
        "  \n",
        "      for x, y in dl_train:\n",
        "        x, y = x.to(device), y.to(device)\n",
        "\n",
        "        opt.zero_grad()\n",
        "        y_pred = model(x)\n",
        "        loss = loss_fun(y_pred, y)\n",
        "        loss.backward()\n",
        "        opt.step()  \n",
        "        \n",
        "except KeyboardInterrupt:\n",
        "    pass"
      ],
      "execution_count": null,
      "outputs": []
    },
    {
      "cell_type": "code",
      "metadata": {
        "id": "ncaA8MchU9Ml"
      },
      "source": [
        "num_row, num_col = 2, 6\n",
        "f,subplots = plt.subplots(num_row, num_col, sharex='col', sharey='row')\n",
        "\n",
        "X_batch, Y_batch = next(iter(dl_test))\n",
        "X_batch, Y_batch = X_batch.to(device), Y_batch.to(device)\n",
        "\n",
        "with torch.no_grad():\n",
        "  Y_batch_pred = model(X_batch)\n",
        "\n",
        "for i in range(num_row):\n",
        "    for j in range(num_col):\n",
        "      \n",
        "        idx = np.random.choice(np.arange(0, X_batch.shape[0]))\n",
        "        \n",
        "        img = X_batch[idx].detach().cpu().numpy()\n",
        "        \n",
        "        target, pred = Y_batch[idx], Y_batch_pred[idx]\n",
        "        target, pred = target.item(), torch.argmax(pred).item()\n",
        "        target, pred = int(target), int(pred)\n",
        "        is_correct = target == pred\n",
        "                  \n",
        "        subplots[i,j].imshow(img.squeeze(), cmap=\"gray\", interpolation='nearest', \n",
        "                             aspect=\"auto\")\n",
        "        \n",
        "        title = f\"GT: {target} \\n Pred: {pred}\"\n",
        "        color_title = 'green' if is_correct else 'red'\n",
        "        subplots[i,j].set_title(title, color=color_title, fontweight=\"bold\")\n",
        "        subplots[i,j].grid(b=False)\n",
        "\n",
        "f.set_size_inches(13.5, 7.5)"
      ],
      "execution_count": null,
      "outputs": []
    },
    {
      "cell_type": "code",
      "metadata": {
        "id": "p_dzcPr3BP7P"
      },
      "source": [
        ""
      ],
      "execution_count": 10,
      "outputs": []
    }
  ]
}